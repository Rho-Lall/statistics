{
 "cells": [
  {
   "cell_type": "markdown",
   "metadata": {},
   "source": [
    "# HyperGeometric Probability Model\n",
    "\n",
    "\n",
    "\n",
    "## What does X count?\n",
    "\n",
    "X counts the total number (sample total) of marked individuals in the sample.\n",
    "\n",
    "\n",
    "## What's Fixed?\n",
    "\n",
    "\n",
    "## Conditions\n",
    "\n",
    "1. Sampling WITHOUT replacement.\n",
    "2. Every individual in the population has an equal chance of being sampled.\n",
    "3. You can classify the total population into two groups (sub-groups):\n",
    "    * Marked Sub-Population: individuals with the characteristics you are interested in\n",
    "    * UnMarked Sub-Population: Everyone else in the overall population\n",
    "    \n",
    "4. The total number (population total) of marked individuals in the population and the total population size are fixed and known.\n",
    "\n",
    "\n",
    "\n",
    "## PDF\n",
    "\n",
    "\n",
    "## Expected Value\n",
    "\n",
    "\n",
    "\n",
    "\n",
    "## Variance & Standard Deviation\n",
    "\n",
    "\n",
    "\n",
    "## Applications\n",
    "\n",
    "\n",
    "\n",
    "## Background\n",
    "\n",
    "For sampling without replacement. Similar to the Binomial Distribution, except that you sample without replacement.\n",
    "\n",
    "## Example:\n",
    "\n",
    "Suppose you have a group of 20 people, 12 men and 8 women. You randomly select five people to be on a committee, and it turns out all five people you select are men. What's the chance of that happening?\n",
    "\n",
    "This is a formal model that leverages basic probability.\n",
    "\n",
    "$\\large \\frac{{12 \\choose 5}{8 \\choose 0}}{20 \\choose 5}$\n",
    "\n",
    "\n"
   ]
  }
 ],
 "metadata": {
  "kernelspec": {
   "display_name": "Python 3",
   "language": "python",
   "name": "python3"
  },
  "language_info": {
   "codemirror_mode": {
    "name": "ipython",
    "version": 3
   },
   "file_extension": ".py",
   "mimetype": "text/x-python",
   "name": "python",
   "nbconvert_exporter": "python",
   "pygments_lexer": "ipython3",
   "version": "3.7.3"
  }
 },
 "nbformat": 4,
 "nbformat_minor": 2
}
