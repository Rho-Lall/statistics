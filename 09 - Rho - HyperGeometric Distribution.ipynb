{
 "cells": [
  {
   "cell_type": "markdown",
   "metadata": {},
   "source": [
    "# HyperGeometric Probability Model\n",
    "\n",
    "\n",
    "\n",
    "## What does it figure out (count)?\n",
    "\n",
    "\n",
    "## What's Fixed?\n",
    "\n",
    "\n",
    "## Conditions\n",
    "\n",
    "\n",
    "## PDF\n",
    "\n",
    "\n",
    "## Expected Value\n",
    "\n",
    "\n",
    "\n",
    "\n",
    "## Variance & Standard Deviation\n",
    "\n",
    "\n",
    "\n",
    "## Applications\n",
    "\n",
    "\n",
    "\n",
    "## Background\n"
   ]
  }
 ],
 "metadata": {
  "kernelspec": {
   "display_name": "Python 3",
   "language": "python",
   "name": "python3"
  },
  "language_info": {
   "codemirror_mode": {
    "name": "ipython",
    "version": 3
   },
   "file_extension": ".py",
   "mimetype": "text/x-python",
   "name": "python",
   "nbconvert_exporter": "python",
   "pygments_lexer": "ipython3",
   "version": "3.7.3"
  }
 },
 "nbformat": 4,
 "nbformat_minor": 2
}
