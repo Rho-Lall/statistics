{
 "cells": [
  {
   "cell_type": "markdown",
   "metadata": {},
   "source": [
    "# Chooseing Between Models\n",
    "\n",
    "\n",
    "# Discrete Uniform Distribution\n",
    "\n",
    "The Discrete Uniform Distribution is discrete, but the other conditions do not hold:\n",
    "\n",
    "* it doesn't measure success against failure\n",
    "* p is not the probability of success\n",
    "* there are no trials\n",
    "\n",
    "This model assumes equal probabilty across a series of consecutive integers:\n",
    "* rolling a die\n",
    "* spining a wheel\n",
    "\n",
    "The probability of any outcome ist the same\n",
    "\n",
    "\n",
    "# HyperGeometric Distribution\n",
    "\n",
    "This is Capture-ReCapture. This is used when sampling without replacement and you want to find the probability of getting a certain number of individuals who have a desired characteristic of interest.\n",
    "\n",
    "\n",
    "# Binomial VS Poisson VS Negative Binomial VS Geometric\n",
    "\n",
    "## How they are the same:\n",
    "\n",
    "1. They are all discrete\n",
    "2. They each denote successes against failures\n",
    "3. p: the probability of success\n",
    "4. trails are independant\n",
    "\n",
    "## How they are different:\n",
    "\n",
    "### Poisson Doesn't have a set number of trials like the the Binomial.\n",
    "\n",
    "Poisson doesn't have any trials, it mearly observes a situation over a fixed time or space.\n",
    "\n",
    "\n",
    "## Counting\n",
    "\n",
    "1. Binomial counts the number of successes in a fixed number of trials.\n",
    "2. Negative Binomial counts the number of trails in fixed number of successes.\n",
    "3. Geometric counts the number of trials until the first success.\n",
    "4. Poisson doesn't fix trials or successes, it fixes time and space and counts occurances.\n",
    "\n",
    "## Fixes\n",
    "\n",
    "1. Binomial fixes number of trials\n",
    "2. Negative Binomail fixes the number of successes\n",
    "3. Geometric fixes number of successes at1\n",
    "4. Poisson fixes time and space\n",
    "\n"
   ]
  }
 ],
 "metadata": {
  "kernelspec": {
   "display_name": "Python 3",
   "language": "python",
   "name": "python3"
  },
  "language_info": {
   "codemirror_mode": {
    "name": "ipython",
    "version": 3
   },
   "file_extension": ".py",
   "mimetype": "text/x-python",
   "name": "python",
   "nbconvert_exporter": "python",
   "pygments_lexer": "ipython3",
   "version": "3.7.3"
  }
 },
 "nbformat": 4,
 "nbformat_minor": 2
}
