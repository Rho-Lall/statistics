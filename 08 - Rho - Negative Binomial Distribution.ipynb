{
 "cells": [
  {
   "cell_type": "markdown",
   "metadata": {},
   "source": [
    "# Negative Binomial Probability Model\n",
    "\n",
    "\n",
    "\n",
    "## What does it figure out (count)?\n",
    "\n",
    "The total # of trials needed until the $k^{th}$ success occurs.\n",
    "\n",
    "## What's Fixed?\n",
    "\n",
    "\n",
    "## Conditions\n",
    "1. Observe a sequence of independent trials from some random process.\n",
    "2. Classify the outcomes of each trial into two groups: success or failure.\n",
    "3. Probability of success is the same for each trial.\n",
    "4. X counts the number of trials up to and including the $k^{th}$ success.\n",
    "\n",
    "## PDF\n",
    "\n",
    "$P(X = x) = {\\large {{x - 1} \\choose {k - 1}} p^k {(1 - p)^{x - k}}}$\n",
    "\n",
    "* p: probability of success\n",
    "* k: number of successes desired\n",
    "* x: number of trials required\n",
    "\n",
    "\n",
    "## Background\n",
    "\n",
    "General Version of the Geometric Probability Model. \n"
   ]
  }
 ],
 "metadata": {
  "kernelspec": {
   "display_name": "Python 3",
   "language": "python",
   "name": "python3"
  },
  "language_info": {
   "codemirror_mode": {
    "name": "ipython",
    "version": 3
   },
   "file_extension": ".py",
   "mimetype": "text/x-python",
   "name": "python",
   "nbconvert_exporter": "python",
   "pygments_lexer": "ipython3",
   "version": "3.7.3"
  }
 },
 "nbformat": 4,
 "nbformat_minor": 2
}
