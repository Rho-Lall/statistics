{
 "cells": [
  {
   "cell_type": "markdown",
   "metadata": {},
   "source": [
    "# Binomial Distribution\n",
    "\n",
    "$\\textit binomial$ means two names, success and failure and the model is associated with situations with two outcomes: i.e. hitting a red light, or not.\n",
    "\n",
    "## Conditions\n",
    "\n",
    "1. Fixed number of trials, n.\n",
    "2. You can classify the outcome of each trial into one of two groups: success of failure.\n",
    "3. The probability of success is the same for each trial, p.\n",
    "4. The trials are independant.\n",
    "\n",
    "Success means getting the outcome you want to count, it isn't inherantly good or bad. Failure is the result you don't want to count."
   ]
  },
  {
   "cell_type": "code",
   "execution_count": null,
   "metadata": {},
   "outputs": [],
   "source": []
  }
 ],
 "metadata": {
  "kernelspec": {
   "display_name": "Python 3",
   "language": "python",
   "name": "python3"
  },
  "language_info": {
   "codemirror_mode": {
    "name": "ipython",
    "version": 3
   },
   "file_extension": ".py",
   "mimetype": "text/x-python",
   "name": "python",
   "nbconvert_exporter": "python",
   "pygments_lexer": "ipython3",
   "version": "3.7.3"
  }
 },
 "nbformat": 4,
 "nbformat_minor": 2
}
