{
 "cells": [
  {
   "cell_type": "markdown",
   "metadata": {},
   "source": [
    "# Poker Strategy for Texas Hold'em"
   ]
  },
  {
   "cell_type": "code",
   "execution_count": 4,
   "metadata": {},
   "outputs": [
    {
     "data": {
      "image/jpeg": "[encoded data removed]",
      "text/html": [
       "\n",
       "        <iframe\n",
       "            width=\"900\"\n",
       "            height=\"600\"\n",
       "            src=\"https://www.youtube.com/embed/b9HYxquQt-M\"\n",
       "            frameborder=\"0\"\n",
       "            allowfullscreen\n",
       "        ></iframe>\n",
       "        "
      ],
      "text/plain": [
       "<IPython.lib.display.YouTubeVideo at 0x20351b6bac8>"
      ]
     },
     "execution_count": 4,
     "metadata": {},
     "output_type": "execute_result"
    }
   ],
   "source": [
    "from IPython.display import YouTubeVideo\n",
    "YouTubeVideo('b9HYxquQt-M', width=900, height=600)"
   ]
  },
  {
   "cell_type": "markdown",
   "metadata": {},
   "source": [
    "## Combinatoral Analysis of Poker Hands\n",
    "\n",
    "#### Four of a kind:\n",
    "\n",
    "$[{13 \\choose 1}{4 \\choose 4}][{12 \\choose 1}{4 \\choose 1}]$\n",
    "\n",
    "* choose 1 of the 13 ranks\n",
    "* of the 4 cards with the same rank, choose all 4\n",
    "* choose the last card, of the remaining 12 ranks choose 1\n",
    "* of the 4 cards with the second rank, choose 1\n",
    "\n",
    "#### Three of a kind:\n",
    "\n",
    "$[{13 \\choose 1}{4 \\choose 3}][{12 \\choose 2}{4 \\choose 1}{4 \\choose 1}]$\n",
    "\n",
    "* choose 1 of the 13 ranks\n",
    "* of the 4 cards with the same rank, choose 3\n",
    "* choose the last two card at the same time, of the remaining 12 ranks choose 2\n",
    "* of the 4 cards with the second and third ranks, choose 1\n",
    "* the last two cards cannot be the same rank or you will have a full house.\n",
    "\n",
    "**You might think to choose the last two cards one at a time. IE \"48 choose 1\" times \"44 choose 1\". This would give you an answer that is double the correct answer because it would double count pairs of cards. AB and BA would be counted separately (double counted as order doensn't matter).**\n",
    "\n",
    "\n",
    "#### Full House\n",
    "\n",
    "$[{13 \\choose 2}{2 \\choose 1}{4 \\choose 3}{4 \\choose 2}]$\n",
    "\n",
    "* choose 2 of the 13 ranks\n",
    "* choose which will be the two-kind and which will be the three-of-a-kind, there are 2 choose 1 ways\n",
    "* of the four cards of the first rank, choose 3\n",
    "* of the four cards of the second rank, choose 2\n",
    "\n",
    "#### Flush\n",
    "\n",
    "$[{4 \\choose 1}{13 \\choose 5}]$\n",
    "\n",
    "\n",
    "* all the same suit\n",
    "* of the 4 suits, choose 1\n",
    "* of the 13 ranks in that suit, choose 5\n",
    "\n",
    "#### Straight\n",
    "\n",
    "$[{4 \\choose 1}{10 \\choose 1}]{4 \\choose 1}{4 \\choose 1}{4 \\choose 1}{4 \\choose 1}$\n",
    "\n",
    "* for the first card you choose 1 suit of 4, & then choose 1 of the 10 cards that can start a straight\n",
    "* for the next four cards there is only 1 rank that can follow, and there are 4 in the deck of each\n",
    "\n",
    "#### Straight Flush\n",
    "\n",
    "$[{4 \\choose 1}{10 \\choose 1}]{1 \\choose 1}{1 \\choose 1}{1 \\choose 1}{1 \\choose 1}$\n",
    "\n",
    "This one and the straight are more challenging. Especially with the Straight Flush, how is it that the probability of picking the first card is the same as picking all five. Those \"1 choose 1\" cards that follow bother me because i don't see how picking another card doesn't change the outcome.\n",
    "\n",
    "The \"trick\" is that we are not looking at the probability of picking this hand. We are counting the ways we can pick this hand. Once you choose the first card of the Straight Flush there is one and only one way to choose the remaining four cards.\n",
    "\n",
    "The probability is the ratio of this number (40) to the total number of hands that can be drawn (2,598,960), less than 1%.\n",
    "The probability of picking just one of these cards, i.e. pulling one from the deck is 40/52, 76%. The difference comes from the denominator.\n",
    "\n",
    "\n",
    "#### Two Pair\n",
    "\n",
    "$[{13 \\choose 2}{4 \\choose 2}{4 \\choose 2}]{44 \\choose 1}$\n",
    "\n",
    "#### One Pair\n",
    "\n",
    "$[{13 \\choose 1}{4 \\choose 2}][{12 \\choose 3}{4 \\choose 1}{4 \\choose 1}{4 \\choose 1}]$\n",
    "\n",
    "#### High Card\n",
    "\n",
    "${13 \\choose 5}{4 \\choose 1}{4 \\choose 1}{4 \\choose 1}{4 \\choose 1} = 1,317,888$\n",
    "\n",
    "Subtract out the:\n",
    "* Straights, 10,200\n",
    "* Flushes, 5,108\n",
    "* Straight Flushes, 36\n",
    "* Royal Flushes, 4\n",
    "\n",
    "You are left with 1,302,540.\n",
    "\n",
    "## Poker Hand Probabilities\n",
    "\n",
    "Total Possible hands: 2,598,960 (100%)\n",
    "\n",
    "* High Card: 1,302,540 (50.1%)\n",
    "* One Pair: 1,098,240 (42%)\n",
    "* Two Pair: 123,552 (4.8%)\n",
    "* 3 of a kind: 54,912 (2.1%)\n",
    "* Straight: 10,200 (0.39%)\n",
    "* Flush: 5,108 (0.20%)\n",
    "* Full House 3,744 (0.14%)\n",
    "* 4 of a Kind 624 (0.02%)\n",
    "* Straight Flush 36 (0.0013%) Slightly more than one/one-hundreth of a percent.\n",
    "* Royal Flush 4 (0.00015%) Slightly more than one/one-thousandth of a percent."
   ]
  },
  {
   "cell_type": "code",
   "execution_count": 13,
   "metadata": {},
   "outputs": [
    {
     "name": "stdout",
     "output_type": "stream",
     "text": [
      "6625476.0\n",
      "1.526090520384494e+21\n",
      "4.3414698613885174e-13\n"
     ]
    }
   ],
   "source": [
    "from scipy.special import comb\n",
    "\n",
    "\n",
    "# this calculation is experimental.\n",
    "# i am looking for the odds of playing a flush in 5 player texas hold'em\n",
    "# \n",
    "den = comb(52,5)*comb(47,2)*comb(45,2)*comb(43,2)*comb(41,2)*comb(39,2)\n",
    "num = comb(4,1)*comb(13,5)*comb(3,3)*comb(13,5) \n",
    "\n",
    "print(num)\n",
    "print(den)\n",
    "print(num/den*100)"
   ]
  }
 ],
 "metadata": {
  "kernelspec": {
   "display_name": "Python 3",
   "language": "python",
   "name": "python3"
  },
  "language_info": {
   "codemirror_mode": {
    "name": "ipython",
    "version": 3
   },
   "file_extension": ".py",
   "mimetype": "text/x-python",
   "name": "python",
   "nbconvert_exporter": "python",
   "pygments_lexer": "ipython3",
   "version": "3.7.3"
  }
 },
 "nbformat": 4,
 "nbformat_minor": 2
}
