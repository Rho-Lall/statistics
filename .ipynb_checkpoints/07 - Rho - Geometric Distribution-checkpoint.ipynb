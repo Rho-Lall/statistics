{
 "cells": [
  {
   "cell_type": "markdown",
   "metadata": {},
   "source": [
    "# Geometric Distribution\n",
    "\n",
    "Geometric distribution is named for the shape of its PDF. A gemetric series is the sum of a fraction (btw 1 & 0) taken to higher and higher powers, i (starting at 0).\n",
    "\n",
    "$\\large \\displaystyle\\sum_{i = 0}^{\\infty} (\\frac{1}{x})^i$\n",
    "\n",
    "Mathamatitians call the fraction 'r'. The sum of the geometric series is: $1 / (1-r)$\n",
    "\n",
    "\n",
    "## PDF\n",
    "$\\large P(x) = (1-P)^{x-1}(P)$"
   ]
  }
 ],
 "metadata": {
  "kernelspec": {
   "display_name": "Python 3",
   "language": "python",
   "name": "python3"
  },
  "language_info": {
   "codemirror_mode": {
    "name": "ipython",
    "version": 3
   },
   "file_extension": ".py",
   "mimetype": "text/x-python",
   "name": "python",
   "nbconvert_exporter": "python",
   "pygments_lexer": "ipython3",
   "version": "3.7.3"
  }
 },
 "nbformat": 4,
 "nbformat_minor": 2
}
