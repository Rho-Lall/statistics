{
 "cells": [
  {
   "cell_type": "markdown",
   "metadata": {},
   "source": [
    "# Geometric Distribution\n",
    "\n",
    "## What's Fixed?\n",
    "\n",
    "The geometric distribution fixes the number of successes at 1. \n",
    "\n",
    "\n",
    "## What does it figure out?\n",
    "\n",
    "The Geometric distribution models the number of trials until the first success occurs. IE how long can they expect a production line to last without breaking down and the amount of variability they can expect.\n",
    "\n",
    "## Conditions\n",
    "\n",
    "1. Problem presents a sequence of independent trials of some random process\n",
    "2. Classify the outcomes of each trial into two groups: success or failure\n",
    "3. Probability of success must be the same for each trial, (1 - P) is the probability of failure\n",
    "4. X counts the total number of trials up to and including the first success\n",
    " \n",
    "\n",
    "\n",
    "## PDF\n",
    "$\\large P(x) = (1-p)^{x-1}(p)$\n",
    "\n",
    "## CDF\n",
    "\n",
    "There isn't a formula. Probabilities drop off to small values after a certain point, it can be calculated by hand. Each successive failure is equal to the previous value multiplied by (1-P). That is easy to generate in Excel.\n",
    "\n",
    "## Expected Value\n",
    "\n",
    "$\\large E(X) = \\frac{1}{p}$\n",
    "\n",
    "## Variance & Standard Deviation\n",
    "\n",
    "$\\large \\sigma^2 = \\frac{1-p}{p^2}$\n",
    "\n",
    "$\\large \\sigma = \\sqrt{\\frac{1-p}{p^2}}$\n",
    "\n",
    "\n",
    "## Background\n",
    "\n",
    "Geometric distribution is named for the shape of its PDF. A gemetric series is the sum of a fraction (btw 1 & 0) taken to higher and higher powers, i (starting at 0).\n",
    "\n",
    "$\\large \\displaystyle\\sum_{i = 0}^{\\infty} (\\frac{1}{x})^i$\n",
    "\n",
    "Mathamatitians call the fraction 'r'. The sum of the geometric series is: $1 / (1-r)$\n",
    "\n",
    "Taking a fraction to higher and higher powers happens all the time in probability, i.e. repeating an experiment over and over again."
   ]
  }
 ],
 "metadata": {
  "kernelspec": {
   "display_name": "Python 3",
   "language": "python",
   "name": "python3"
  },
  "language_info": {
   "codemirror_mode": {
    "name": "ipython",
    "version": 3
   },
   "file_extension": ".py",
   "mimetype": "text/x-python",
   "name": "python",
   "nbconvert_exporter": "python",
   "pygments_lexer": "ipython3",
   "version": "3.7.3"
  }
 },
 "nbformat": 4,
 "nbformat_minor": 2
}
