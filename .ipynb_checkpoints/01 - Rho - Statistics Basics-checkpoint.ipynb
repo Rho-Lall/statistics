{
 "cells": [
  {
   "cell_type": "markdown",
   "metadata": {},
   "source": [
    "# Statistics Basics"
   ]
  },
  {
   "cell_type": "markdown",
   "metadata": {},
   "source": [
    "### Prerequisits\n",
    "\n",
    "* first year college calculus\n",
    "* sums on infinite series\n",
    "* differenciation\n",
    "* single/double integration"
   ]
  },
  {
   "cell_type": "markdown",
   "metadata": {},
   "source": [
    "# A Theory of Information\n",
    "\n",
    "### Definitions of Statistics\n",
    "Statistics is a theory of information with inference as its goal.\n",
    "\n",
    "A practical theory of information.\n",
    "\n",
    "The technology of the scientific method. It is concerned with:\n",
    "* the design of experiments and investigtions\n",
    "* statistical inference\n",
    "\n",
    "\n",
    "### Why Focus on Probability?\n",
    "\n",
    "Probability is the foundation of the Theory of Statistics.\n",
    "\n",
    "Probability is the mechanism used in making statistical inferences.\n",
    "\n",
    "Probabilists reason from a known population to the outcome of a single experiment."
   ]
  },
  {
   "cell_type": "markdown",
   "metadata": {},
   "source": [
    "# Methods for characterizing a set of numbers\n",
    "\n",
    "To successfully articulate useful information about a sey of numbers the method must:\n",
    "* clearly visualize the set of numbers\n",
    "* provide practical significance for calculations\n",
    "\n",
    "### Measures of Center\n",
    "Mean (Average) : $ \\bar{y} = \\frac{1}{n} \\displaystyle\\sum_{i=1}^{n} y_{i} $ \n",
    "* (n = # of observations)\n",
    "* $ \\mu $  (\"myu\" population mean) \n",
    "\n",
    "Median\n",
    "\n",
    "Mode\n",
    "\n",
    "### Measures of Spread\n",
    "\n",
    "Range\n",
    "\n",
    "Variance : $s^2 = \\frac{1}{n-1} \\displaystyle\\sum_{i=1}^{n} (y_{i} - \\bar{y})^2$\n",
    "\n",
    "Standard Deviation : $\\sigma = \\sqrt{\\sigma^2} = \\sqrt{s^2}$\n",
    "* can be interpreted with Tchebysheff's Theorem\n",
    "\n",
    "### Empiracal Rule\n",
    "\n",
    "* $\\mu + \\sigma$ contains 68% of measurements\n",
    "* $\\mu + 2\\sigma$ contains 95% of measurements\n",
    "* $\\mu + 3\\sigma$ contains almost all of measurement\n"
   ]
  },
  {
   "cell_type": "markdown",
   "metadata": {},
   "source": [
    "## Discrete Random Variables\n",
    "\n",
    "### Discrete Random Variables\n",
    "\n",
    "### Distributions of Discrete Random Variables\n"
   ]
  },
  {
   "cell_type": "markdown",
   "metadata": {},
   "source": [
    "## Continuous Random Variables\n",
    "\n",
    "### Continuous Random Variables\n",
    "\n",
    "### Distributions of Continuous Random Variables\n",
    "\n",
    "### Specific Distributions"
   ]
  },
  {
   "cell_type": "markdown",
   "metadata": {},
   "source": [
    "## Hypothesis Testing"
   ]
  },
  {
   "cell_type": "markdown",
   "metadata": {},
   "source": [
    "## Confidence Intervals"
   ]
  },
  {
   "cell_type": "markdown",
   "metadata": {},
   "source": [
    "## Comparison of Two Population Means"
   ]
  },
  {
   "cell_type": "markdown",
   "metadata": {},
   "source": [
    "# Tools\n",
    "\n",
    "Relative Frequency Histogram\n",
    "\n",
    "Relative Frequency Diagram"
   ]
  }
 ],
 "metadata": {
  "kernelspec": {
   "display_name": "Python 3",
   "language": "python",
   "name": "python3"
  },
  "language_info": {
   "codemirror_mode": {
    "name": "ipython",
    "version": 3
   },
   "file_extension": ".py",
   "mimetype": "text/x-python",
   "name": "python",
   "nbconvert_exporter": "python",
   "pygments_lexer": "ipython3",
   "version": "3.7.3"
  }
 },
 "nbformat": 4,
 "nbformat_minor": 2
}
