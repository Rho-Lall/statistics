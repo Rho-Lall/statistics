{
 "cells": [
  {
   "cell_type": "markdown",
   "metadata": {},
   "source": [
    "# Discrete Uniform Distribution\n",
    "\n",
    "A random variable, X, has a discrete uniform distribution if the situation meets the following two (2) conditions:\n",
    "\n",
    "1. Possible values of X are consecutive integers from a to b (inclusive).\n",
    "2. Each possible value of X has an equal probability.\n",
    "\n",
    "## PMF\n",
    "\n",
    "$\\large P(x) = \\frac{1}{b-a+1}$\n",
    "\n",
    "For $a \\leq x \\leq b$\n",
    "\n",
    "* The PMF is a constant value across all values of x. The graph of the PMF is flat because each possible value of X has equal probability.\n",
    "\n",
    "\n",
    "## CDF\n",
    "\n",
    "F(X) will be a step wise function with b-a+3 steps (b-a+1 steps, plus two steps for 0 and 1. \n",
    "\n",
    "F(X) = \n",
    "* 0, for x < a\n",
    "* $\\large \\frac{x-a+1}{b-a+1}$, for $a \\leq x < b$\n",
    "* 1, for $x \\geq b$\n",
    "\n",
    "\n",
    "## Expected Value\n",
    "\n",
    "The expected value is the midpoint between b and a.\n",
    "\n",
    "$\\large E(X) = \\frac{b + a}{2}$\n",
    "\n",
    "## Variance and Standard Deviation\n",
    "\n",
    "Variance:\n",
    "\n",
    "$\\large \\frac{(b-a+2)(b-a)}{12}$\n",
    "\n",
    "\n",
    "Standard Deviation:\n",
    "\n",
    "$\\large \\sqrt{\\frac{(b-a+2)(b-a)}{12}}$"
   ]
  }
 ],
 "metadata": {
  "kernelspec": {
   "display_name": "Python 3",
   "language": "python",
   "name": "python3"
  },
  "language_info": {
   "codemirror_mode": {
    "name": "ipython",
    "version": 3
   },
   "file_extension": ".py",
   "mimetype": "text/x-python",
   "name": "python",
   "nbconvert_exporter": "python",
   "pygments_lexer": "ipython3",
   "version": "3.7.3"
  }
 },
 "nbformat": 4,
 "nbformat_minor": 2
}
