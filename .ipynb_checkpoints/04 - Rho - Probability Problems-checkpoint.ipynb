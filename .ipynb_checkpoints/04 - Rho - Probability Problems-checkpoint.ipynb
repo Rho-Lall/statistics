{
 "cells": [
  {
   "cell_type": "markdown",
   "metadata": {},
   "source": [
    "A carnival game allows you three attempts to hit a target. You can hit or miss on each attempt. To win, you need to 'hit' twice in a row.\n",
    "\n",
    "You are required to throw with alternate hands so if you start with your dominant hand, you have to throw with your weak hand on the second turn before returning to the dominant hand on the last throw.\n",
    "\n",
    "You have a .70 probability of hiting with your dominant hand.\n",
    "You have a .40 probability of hiting with your weak hand.\n",
    "\n",
    "What is your probability of wining?\n",
    "\n"
   ]
  }
 ],
 "metadata": {
  "kernelspec": {
   "display_name": "Python 3",
   "language": "python",
   "name": "python3"
  },
  "language_info": {
   "codemirror_mode": {
    "name": "ipython",
    "version": 3
   },
   "file_extension": ".py",
   "mimetype": "text/x-python",
   "name": "python",
   "nbconvert_exporter": "python",
   "pygments_lexer": "ipython3",
   "version": "3.7.3"
  }
 },
 "nbformat": 4,
 "nbformat_minor": 2
}
