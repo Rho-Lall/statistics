{
 "cells": [
  {
   "cell_type": "markdown",
   "metadata": {},
   "source": [
    "# Negative Binomial Probability Model\n",
    "\n",
    "\n",
    "\n",
    "## What does it figure out (count)?\n",
    "\n",
    "The total # of trials until the $k^{th}$ success\n",
    "\n",
    "## What's Fixed?\n",
    "\n",
    "\n",
    "## Conditions\n",
    "\n",
    "\n",
    "## Background\n",
    "\n",
    "General Version of the Geometric Probability Model. \n"
   ]
  }
 ],
 "metadata": {
  "kernelspec": {
   "display_name": "Python 3",
   "language": "python",
   "name": "python3"
  },
  "language_info": {
   "codemirror_mode": {
    "name": "ipython",
    "version": 3
   },
   "file_extension": ".py",
   "mimetype": "text/x-python",
   "name": "python",
   "nbconvert_exporter": "python",
   "pygments_lexer": "ipython3",
   "version": "3.7.3"
  }
 },
 "nbformat": 4,
 "nbformat_minor": 2
}
