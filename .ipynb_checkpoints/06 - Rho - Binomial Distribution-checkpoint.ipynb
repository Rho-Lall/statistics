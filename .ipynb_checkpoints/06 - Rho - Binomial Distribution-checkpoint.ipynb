{
 "cells": [
  {
   "cell_type": "markdown",
   "metadata": {},
   "source": [
    "# Binomial Distribution\n",
    "\n",
    "$\\textit binomial$ means two names, success and failure and the model is associated with situations with two outcomes: i.e. hitting a red light, or not.\n",
    "\n",
    "## Conditions\n",
    "\n",
    "1. Fixed number of trials, n.\n",
    "2. You can classify the outcome of each trial into one of two groups: success of failure.\n",
    "3. The probability of success is the same for each trial, p.\n",
    "4. The trials are independant.\n",
    "\n",
    "Success means getting the outcome you want to count, it isn't inherantly good or bad. Failure is the result you don't want to count.\n",
    " \n",
    " * Sample with replacement - otherwise it affects p.\n",
    " "
   ]
  },
  {
   "cell_type": "markdown",
   "metadata": {},
   "source": [
    "## PMF\n",
    "\n",
    "$\\large p(x) =  {n \\choose x} {p^x }{(1-p)^{n-x}}$\n",
    "\n",
    "* n is the fixed number of trials\n",
    "* x is the specific number of successes\n",
    "* n-x is the specific number of failures\n",
    "* p is the probability of success on any given trial\n",
    "* 1-p is the probability of failure on any given trial; some denote this as 'q'"
   ]
  },
  {
   "cell_type": "markdown",
   "metadata": {},
   "source": [
    "## CDF\n",
    "\n",
    "$\\large F(X) = \\displaystyle\\sum_{x=0}^{n} {n \\choose x}p^x (1-p)^{n-x}$\n",
    "\n",
    "* Use a table to calculate the CDF of a binomial\n",
    "* There has to be a scipy command for this as well"
   ]
  },
  {
   "cell_type": "markdown",
   "metadata": {},
   "source": [
    "## Expected Value\n",
    "\n",
    "$\\large E(X) = n*p$\n",
    "\n",
    "## Variance & Standard Deviation\n",
    "\n",
    "$\\large V(X) = \\sigma^2$ = $n*p*q$\n",
    "\n",
    "$\\large \\sigma = \\sqrt{n*p*q}$\n",
    "\n"
   ]
  },
  {
   "cell_type": "code",
   "execution_count": null,
   "metadata": {},
   "outputs": [],
   "source": []
  }
 ],
 "metadata": {
  "kernelspec": {
   "display_name": "Python 3",
   "language": "python",
   "name": "python3"
  },
  "language_info": {
   "codemirror_mode": {
    "name": "ipython",
    "version": 3
   },
   "file_extension": ".py",
   "mimetype": "text/x-python",
   "name": "python",
   "nbconvert_exporter": "python",
   "pygments_lexer": "ipython3",
   "version": "3.7.3"
  }
 },
 "nbformat": 4,
 "nbformat_minor": 2
}
