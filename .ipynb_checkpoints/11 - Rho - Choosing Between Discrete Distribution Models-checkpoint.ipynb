{
 "cells": [
  {
   "cell_type": "markdown",
   "metadata": {},
   "source": [
    "# Chooseing Between Models\n",
    "\n",
    "\n",
    "## How they are the same:\n",
    "\n",
    "1. They are all discrete\n",
    "2. They each denote successes against failures\n",
    "3. p: the probability of success\n",
    "4. trails are independant\n",
    "\n",
    "\n",
    "# Binomial VS Poisson\n",
    "\n",
    "The Binomial counts the number of successes in a given number of trials (n). X can take on values from 0 to n.\n",
    "\n",
    "### Poisson Doesn't have a set number of trials like the the Binomial.\n",
    "\n",
    "Poisson doesn't have any trials, it mearly observes a situation over a fixed time or space.\n",
    "\n",
    "\n",
    "# Counting\n",
    "\n",
    "### Binomial counts the number of successes in a fixed number of trials.\n",
    "### Negative Binomial counts the number of trails in fixed number of successes.\n",
    "### Geometric counts the number of trials until the first success.\n",
    "### Poisson doesn't fix trials or successes, it fixes time and space and counts occurances.\n",
    "\n",
    "# Fixes\n",
    "\n",
    "### Binomial fixes number of trials\n",
    "### Negative Binomail fixes the number of successes\n",
    "### Geometric fixes number of successes at1\n",
    "### Poisson fixes time and space\n",
    "\n",
    "\n",
    "# Discrete Uniform Distribution\n",
    "\n",
    "The Discrete Uniform Distribution is discrete, but the other conditions do not hold:\n",
    "\n",
    "* it doesn't measure success against failure\n",
    "* p is not the probability of success\n",
    "*"
   ]
  }
 ],
 "metadata": {
  "kernelspec": {
   "display_name": "Python 3",
   "language": "python",
   "name": "python3"
  },
  "language_info": {
   "codemirror_mode": {
    "name": "ipython",
    "version": 3
   },
   "file_extension": ".py",
   "mimetype": "text/x-python",
   "name": "python",
   "nbconvert_exporter": "python",
   "pygments_lexer": "ipython3",
   "version": "3.7.3"
  }
 },
 "nbformat": 4,
 "nbformat_minor": 2
}
